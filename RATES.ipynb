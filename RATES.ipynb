{
 "cells": [
  {
   "cell_type": "code",
   "execution_count": 15,
   "metadata": {},
   "outputs": [
    {
     "data": {
      "text/html": [
       "<div>\n",
       "<style scoped>\n",
       "    .dataframe tbody tr th:only-of-type {\n",
       "        vertical-align: middle;\n",
       "    }\n",
       "\n",
       "    .dataframe tbody tr th {\n",
       "        vertical-align: top;\n",
       "    }\n",
       "\n",
       "    .dataframe thead th {\n",
       "        text-align: right;\n",
       "    }\n",
       "</style>\n",
       "<table border=\"1\" class=\"dataframe\">\n",
       "  <thead>\n",
       "    <tr style=\"text-align: right;\">\n",
       "      <th></th>\n",
       "      <th>Distance</th>\n",
       "      <th>Count 1</th>\n",
       "      <th>Count 2</th>\n",
       "      <th>Count 3</th>\n",
       "      <th>Count 4</th>\n",
       "      <th>Count 5</th>\n",
       "      <th>Count 6</th>\n",
       "      <th>Count 7</th>\n",
       "      <th>Count 8</th>\n",
       "      <th>Count 9</th>\n",
       "      <th>Count 10</th>\n",
       "    </tr>\n",
       "  </thead>\n",
       "  <tbody>\n",
       "    <tr>\n",
       "      <th>0</th>\n",
       "      <td>9 cm</td>\n",
       "      <td>2105</td>\n",
       "      <td>2023</td>\n",
       "      <td>2227</td>\n",
       "      <td>2052</td>\n",
       "      <td>2006</td>\n",
       "      <td>2123</td>\n",
       "      <td>2068</td>\n",
       "      <td>2011</td>\n",
       "      <td>1970</td>\n",
       "      <td>2029</td>\n",
       "    </tr>\n",
       "    <tr>\n",
       "      <th>1</th>\n",
       "      <td>10 cm</td>\n",
       "      <td>3144</td>\n",
       "      <td>3076</td>\n",
       "      <td>3178</td>\n",
       "      <td>3168</td>\n",
       "      <td>3061</td>\n",
       "      <td>3183</td>\n",
       "      <td>3191</td>\n",
       "      <td>3166</td>\n",
       "      <td>3098</td>\n",
       "      <td>3080</td>\n",
       "    </tr>\n",
       "    <tr>\n",
       "      <th>2</th>\n",
       "      <td>11 cm</td>\n",
       "      <td>2290</td>\n",
       "      <td>2385</td>\n",
       "      <td>2261</td>\n",
       "      <td>2248</td>\n",
       "      <td>2300</td>\n",
       "      <td>2297</td>\n",
       "      <td>2260</td>\n",
       "      <td>2329</td>\n",
       "      <td>2344</td>\n",
       "      <td>2286</td>\n",
       "    </tr>\n",
       "    <tr>\n",
       "      <th>3</th>\n",
       "      <td>12 cm</td>\n",
       "      <td>3397</td>\n",
       "      <td>3481</td>\n",
       "      <td>3480</td>\n",
       "      <td>3450</td>\n",
       "      <td>3464</td>\n",
       "      <td>3433</td>\n",
       "      <td>3566</td>\n",
       "      <td>3505</td>\n",
       "      <td>3448</td>\n",
       "      <td>3451</td>\n",
       "    </tr>\n",
       "    <tr>\n",
       "      <th>4</th>\n",
       "      <td>13 cm</td>\n",
       "      <td>2583</td>\n",
       "      <td>2514</td>\n",
       "      <td>2542</td>\n",
       "      <td>2556</td>\n",
       "      <td>2508</td>\n",
       "      <td>2533</td>\n",
       "      <td>2546</td>\n",
       "      <td>2601</td>\n",
       "      <td>2539</td>\n",
       "      <td>2595</td>\n",
       "    </tr>\n",
       "    <tr>\n",
       "      <th>5</th>\n",
       "      <td>14 cm</td>\n",
       "      <td>3557</td>\n",
       "      <td>3480</td>\n",
       "      <td>3532</td>\n",
       "      <td>3368</td>\n",
       "      <td>3617</td>\n",
       "      <td>3549</td>\n",
       "      <td>3408</td>\n",
       "      <td>3491</td>\n",
       "      <td>3570</td>\n",
       "      <td>3419</td>\n",
       "    </tr>\n",
       "    <tr>\n",
       "      <th>6</th>\n",
       "      <td>15 cm</td>\n",
       "      <td>3439</td>\n",
       "      <td>3402</td>\n",
       "      <td>3460</td>\n",
       "      <td>3443</td>\n",
       "      <td>3466</td>\n",
       "      <td>3487</td>\n",
       "      <td>3494</td>\n",
       "      <td>3450</td>\n",
       "      <td>3403</td>\n",
       "      <td>3504</td>\n",
       "    </tr>\n",
       "    <tr>\n",
       "      <th>7</th>\n",
       "      <td>16 cm</td>\n",
       "      <td>3651</td>\n",
       "      <td>3551</td>\n",
       "      <td>3547</td>\n",
       "      <td>3538</td>\n",
       "      <td>3498</td>\n",
       "      <td>3623</td>\n",
       "      <td>3634</td>\n",
       "      <td>3657</td>\n",
       "      <td>3694</td>\n",
       "      <td>3611</td>\n",
       "    </tr>\n",
       "    <tr>\n",
       "      <th>8</th>\n",
       "      <td>17 cm</td>\n",
       "      <td>2441</td>\n",
       "      <td>2442</td>\n",
       "      <td>2433</td>\n",
       "      <td>2467</td>\n",
       "      <td>2387</td>\n",
       "      <td>2373</td>\n",
       "      <td>2347</td>\n",
       "      <td>2398</td>\n",
       "      <td>2380</td>\n",
       "      <td>2351</td>\n",
       "    </tr>\n",
       "    <tr>\n",
       "      <th>9</th>\n",
       "      <td>18 cm</td>\n",
       "      <td>3453</td>\n",
       "      <td>3544</td>\n",
       "      <td>3486</td>\n",
       "      <td>3406</td>\n",
       "      <td>3497</td>\n",
       "      <td>3454</td>\n",
       "      <td>3438</td>\n",
       "      <td>3399</td>\n",
       "      <td>3513</td>\n",
       "      <td>3457</td>\n",
       "    </tr>\n",
       "    <tr>\n",
       "      <th>10</th>\n",
       "      <td>19 cm</td>\n",
       "      <td>3246</td>\n",
       "      <td>3416</td>\n",
       "      <td>3460</td>\n",
       "      <td>3318</td>\n",
       "      <td>3480</td>\n",
       "      <td>3262</td>\n",
       "      <td>2884</td>\n",
       "      <td>3183</td>\n",
       "      <td>3373</td>\n",
       "      <td>3450</td>\n",
       "    </tr>\n",
       "    <tr>\n",
       "      <th>11</th>\n",
       "      <td>20 cm</td>\n",
       "      <td>2567</td>\n",
       "      <td>2547</td>\n",
       "      <td>2539</td>\n",
       "      <td>2647</td>\n",
       "      <td>2621</td>\n",
       "      <td>2590</td>\n",
       "      <td>2538</td>\n",
       "      <td>2671</td>\n",
       "      <td>2483</td>\n",
       "      <td>2433</td>\n",
       "    </tr>\n",
       "    <tr>\n",
       "      <th>12</th>\n",
       "      <td>21 cm</td>\n",
       "      <td>2812</td>\n",
       "      <td>2854</td>\n",
       "      <td>2802</td>\n",
       "      <td>2833</td>\n",
       "      <td>2812</td>\n",
       "      <td>2751</td>\n",
       "      <td>2913</td>\n",
       "      <td>2834</td>\n",
       "      <td>2823</td>\n",
       "      <td>2794</td>\n",
       "    </tr>\n",
       "    <tr>\n",
       "      <th>13</th>\n",
       "      <td>22 cm</td>\n",
       "      <td>2610</td>\n",
       "      <td>2553</td>\n",
       "      <td>2423</td>\n",
       "      <td>2452</td>\n",
       "      <td>2525</td>\n",
       "      <td>2496</td>\n",
       "      <td>2544</td>\n",
       "      <td>2542</td>\n",
       "      <td>2598</td>\n",
       "      <td>2555</td>\n",
       "    </tr>\n",
       "    <tr>\n",
       "      <th>14</th>\n",
       "      <td>23 cm</td>\n",
       "      <td>3347</td>\n",
       "      <td>3432</td>\n",
       "      <td>3436</td>\n",
       "      <td>3429</td>\n",
       "      <td>3400</td>\n",
       "      <td>3474</td>\n",
       "      <td>3338</td>\n",
       "      <td>3359</td>\n",
       "      <td>3345</td>\n",
       "      <td>3518</td>\n",
       "    </tr>\n",
       "    <tr>\n",
       "      <th>15</th>\n",
       "      <td>24 cm</td>\n",
       "      <td>2522</td>\n",
       "      <td>2524</td>\n",
       "      <td>2446</td>\n",
       "      <td>2365</td>\n",
       "      <td>2526</td>\n",
       "      <td>2440</td>\n",
       "      <td>2439</td>\n",
       "      <td>2474</td>\n",
       "      <td>2415</td>\n",
       "      <td>2529</td>\n",
       "    </tr>\n",
       "    <tr>\n",
       "      <th>16</th>\n",
       "      <td>25 cm</td>\n",
       "      <td>2991</td>\n",
       "      <td>3146</td>\n",
       "      <td>3946</td>\n",
       "      <td>3070</td>\n",
       "      <td>3078</td>\n",
       "      <td>3071</td>\n",
       "      <td>3000</td>\n",
       "      <td>3054</td>\n",
       "      <td>3022</td>\n",
       "      <td>2945</td>\n",
       "    </tr>\n",
       "    <tr>\n",
       "      <th>17</th>\n",
       "      <td>26 cm</td>\n",
       "      <td>3089</td>\n",
       "      <td>3171</td>\n",
       "      <td>3146</td>\n",
       "      <td>3164</td>\n",
       "      <td>3195</td>\n",
       "      <td>3131</td>\n",
       "      <td>3093</td>\n",
       "      <td>3132</td>\n",
       "      <td>3107</td>\n",
       "      <td>3045</td>\n",
       "    </tr>\n",
       "    <tr>\n",
       "      <th>18</th>\n",
       "      <td>27 cm</td>\n",
       "      <td>2378</td>\n",
       "      <td>2410</td>\n",
       "      <td>2442</td>\n",
       "      <td>2409</td>\n",
       "      <td>2345</td>\n",
       "      <td>2513</td>\n",
       "      <td>2397</td>\n",
       "      <td>2456</td>\n",
       "      <td>2417</td>\n",
       "      <td>2358</td>\n",
       "    </tr>\n",
       "    <tr>\n",
       "      <th>19</th>\n",
       "      <td>28 cm</td>\n",
       "      <td>2565</td>\n",
       "      <td>2561</td>\n",
       "      <td>2499</td>\n",
       "      <td>2610</td>\n",
       "      <td>2609</td>\n",
       "      <td>2577</td>\n",
       "      <td>2500</td>\n",
       "      <td>2541</td>\n",
       "      <td>2658</td>\n",
       "      <td>2596</td>\n",
       "    </tr>\n",
       "  </tbody>\n",
       "</table>\n",
       "</div>"
      ],
      "text/plain": [
       "   Distance  Count 1  Count 2  Count 3  Count 4  Count 5  Count 6  Count 7  \\\n",
       "0      9 cm     2105     2023     2227     2052     2006     2123     2068   \n",
       "1     10 cm     3144     3076     3178     3168     3061     3183     3191   \n",
       "2     11 cm     2290     2385     2261     2248     2300     2297     2260   \n",
       "3     12 cm     3397     3481     3480     3450     3464     3433     3566   \n",
       "4     13 cm     2583     2514     2542     2556     2508     2533     2546   \n",
       "5     14 cm     3557     3480     3532     3368     3617     3549     3408   \n",
       "6     15 cm     3439     3402     3460     3443     3466     3487     3494   \n",
       "7     16 cm     3651     3551     3547     3538     3498     3623     3634   \n",
       "8     17 cm     2441     2442     2433     2467     2387     2373     2347   \n",
       "9     18 cm     3453     3544     3486     3406     3497     3454     3438   \n",
       "10    19 cm     3246     3416     3460     3318     3480     3262     2884   \n",
       "11    20 cm     2567     2547     2539     2647     2621     2590     2538   \n",
       "12    21 cm     2812     2854     2802     2833     2812     2751     2913   \n",
       "13    22 cm     2610     2553     2423     2452     2525     2496     2544   \n",
       "14    23 cm     3347     3432     3436     3429     3400     3474     3338   \n",
       "15    24 cm     2522     2524     2446     2365     2526     2440     2439   \n",
       "16    25 cm     2991     3146     3946     3070     3078     3071     3000   \n",
       "17    26 cm     3089     3171     3146     3164     3195     3131     3093   \n",
       "18    27 cm     2378     2410     2442     2409     2345     2513     2397   \n",
       "19    28 cm     2565     2561     2499     2610     2609     2577     2500   \n",
       "\n",
       "    Count 8  Count 9  Count 10  \n",
       "0      2011     1970      2029  \n",
       "1      3166     3098      3080  \n",
       "2      2329     2344      2286  \n",
       "3      3505     3448      3451  \n",
       "4      2601     2539      2595  \n",
       "5      3491     3570      3419  \n",
       "6      3450     3403      3504  \n",
       "7      3657     3694      3611  \n",
       "8      2398     2380      2351  \n",
       "9      3399     3513      3457  \n",
       "10     3183     3373      3450  \n",
       "11     2671     2483      2433  \n",
       "12     2834     2823      2794  \n",
       "13     2542     2598      2555  \n",
       "14     3359     3345      3518  \n",
       "15     2474     2415      2529  \n",
       "16     3054     3022      2945  \n",
       "17     3132     3107      3045  \n",
       "18     2456     2417      2358  \n",
       "19     2541     2658      2596  "
      ]
     },
     "execution_count": 15,
     "metadata": {},
     "output_type": "execute_result"
    }
   ],
   "source": [
    "#carguemos los datos\n",
    "import pandas as pd\n",
    "import numpy as np\n",
    "import plotly.express as px\n",
    "from math import sqrt\n",
    "\n",
    "datos = pd.read_csv('Datos PROTO 3(pegado).csv')\n",
    "datospm = datos.drop(columns = ['Distance'] )\n",
    "datos"
   ]
  },
  {
   "cell_type": "code",
   "execution_count": 16,
   "metadata": {},
   "outputs": [
    {
     "data": {
      "text/html": [
       "<div>\n",
       "<style scoped>\n",
       "    .dataframe tbody tr th:only-of-type {\n",
       "        vertical-align: middle;\n",
       "    }\n",
       "\n",
       "    .dataframe tbody tr th {\n",
       "        vertical-align: top;\n",
       "    }\n",
       "\n",
       "    .dataframe thead th {\n",
       "        text-align: right;\n",
       "    }\n",
       "</style>\n",
       "<table border=\"1\" class=\"dataframe\">\n",
       "  <thead>\n",
       "    <tr style=\"text-align: right;\">\n",
       "      <th></th>\n",
       "      <th>Distance</th>\n",
       "      <th>Count 1</th>\n",
       "      <th>Count 2</th>\n",
       "      <th>Count 3</th>\n",
       "      <th>Count 4</th>\n",
       "      <th>Count 5</th>\n",
       "      <th>Count 6</th>\n",
       "      <th>Count 7</th>\n",
       "      <th>Count 8</th>\n",
       "      <th>Count 9</th>\n",
       "      <th>Count 10</th>\n",
       "      <th>MEAN</th>\n",
       "      <th>STD</th>\n",
       "      <th>RMS</th>\n",
       "    </tr>\n",
       "  </thead>\n",
       "  <tbody>\n",
       "    <tr>\n",
       "      <th>0</th>\n",
       "      <td>9 cm</td>\n",
       "      <td>2105</td>\n",
       "      <td>2023</td>\n",
       "      <td>2227</td>\n",
       "      <td>2052</td>\n",
       "      <td>2006</td>\n",
       "      <td>2123</td>\n",
       "      <td>2068</td>\n",
       "      <td>2011</td>\n",
       "      <td>1970</td>\n",
       "      <td>2029</td>\n",
       "      <td>2061.4</td>\n",
       "      <td>74.340358</td>\n",
       "      <td>70.525456</td>\n",
       "    </tr>\n",
       "    <tr>\n",
       "      <th>1</th>\n",
       "      <td>10 cm</td>\n",
       "      <td>3144</td>\n",
       "      <td>3076</td>\n",
       "      <td>3178</td>\n",
       "      <td>3168</td>\n",
       "      <td>3061</td>\n",
       "      <td>3183</td>\n",
       "      <td>3191</td>\n",
       "      <td>3166</td>\n",
       "      <td>3098</td>\n",
       "      <td>3080</td>\n",
       "      <td>3134.5</td>\n",
       "      <td>50.297449</td>\n",
       "      <td>47.716349</td>\n",
       "    </tr>\n",
       "    <tr>\n",
       "      <th>2</th>\n",
       "      <td>11 cm</td>\n",
       "      <td>2290</td>\n",
       "      <td>2385</td>\n",
       "      <td>2261</td>\n",
       "      <td>2248</td>\n",
       "      <td>2300</td>\n",
       "      <td>2297</td>\n",
       "      <td>2260</td>\n",
       "      <td>2329</td>\n",
       "      <td>2344</td>\n",
       "      <td>2286</td>\n",
       "      <td>2300.0</td>\n",
       "      <td>42.337270</td>\n",
       "      <td>40.164661</td>\n",
       "    </tr>\n",
       "    <tr>\n",
       "      <th>3</th>\n",
       "      <td>12 cm</td>\n",
       "      <td>3397</td>\n",
       "      <td>3481</td>\n",
       "      <td>3480</td>\n",
       "      <td>3450</td>\n",
       "      <td>3464</td>\n",
       "      <td>3433</td>\n",
       "      <td>3566</td>\n",
       "      <td>3505</td>\n",
       "      <td>3448</td>\n",
       "      <td>3451</td>\n",
       "      <td>3467.5</td>\n",
       "      <td>45.434324</td>\n",
       "      <td>43.102784</td>\n",
       "    </tr>\n",
       "    <tr>\n",
       "      <th>4</th>\n",
       "      <td>13 cm</td>\n",
       "      <td>2583</td>\n",
       "      <td>2514</td>\n",
       "      <td>2542</td>\n",
       "      <td>2556</td>\n",
       "      <td>2508</td>\n",
       "      <td>2533</td>\n",
       "      <td>2546</td>\n",
       "      <td>2601</td>\n",
       "      <td>2539</td>\n",
       "      <td>2595</td>\n",
       "      <td>2551.7</td>\n",
       "      <td>32.097248</td>\n",
       "      <td>30.450123</td>\n",
       "    </tr>\n",
       "    <tr>\n",
       "      <th>5</th>\n",
       "      <td>14 cm</td>\n",
       "      <td>3557</td>\n",
       "      <td>3480</td>\n",
       "      <td>3532</td>\n",
       "      <td>3368</td>\n",
       "      <td>3617</td>\n",
       "      <td>3549</td>\n",
       "      <td>3408</td>\n",
       "      <td>3491</td>\n",
       "      <td>3570</td>\n",
       "      <td>3419</td>\n",
       "      <td>3499.1</td>\n",
       "      <td>80.405155</td>\n",
       "      <td>76.279027</td>\n",
       "    </tr>\n",
       "    <tr>\n",
       "      <th>6</th>\n",
       "      <td>15 cm</td>\n",
       "      <td>3439</td>\n",
       "      <td>3402</td>\n",
       "      <td>3460</td>\n",
       "      <td>3443</td>\n",
       "      <td>3466</td>\n",
       "      <td>3487</td>\n",
       "      <td>3494</td>\n",
       "      <td>3450</td>\n",
       "      <td>3403</td>\n",
       "      <td>3504</td>\n",
       "      <td>3454.8</td>\n",
       "      <td>35.007301</td>\n",
       "      <td>33.210842</td>\n",
       "    </tr>\n",
       "    <tr>\n",
       "      <th>7</th>\n",
       "      <td>16 cm</td>\n",
       "      <td>3651</td>\n",
       "      <td>3551</td>\n",
       "      <td>3547</td>\n",
       "      <td>3538</td>\n",
       "      <td>3498</td>\n",
       "      <td>3623</td>\n",
       "      <td>3634</td>\n",
       "      <td>3657</td>\n",
       "      <td>3694</td>\n",
       "      <td>3611</td>\n",
       "      <td>3600.4</td>\n",
       "      <td>63.200211</td>\n",
       "      <td>59.956985</td>\n",
       "    </tr>\n",
       "    <tr>\n",
       "      <th>8</th>\n",
       "      <td>17 cm</td>\n",
       "      <td>2441</td>\n",
       "      <td>2442</td>\n",
       "      <td>2433</td>\n",
       "      <td>2467</td>\n",
       "      <td>2387</td>\n",
       "      <td>2373</td>\n",
       "      <td>2347</td>\n",
       "      <td>2398</td>\n",
       "      <td>2380</td>\n",
       "      <td>2351</td>\n",
       "      <td>2401.9</td>\n",
       "      <td>41.498193</td>\n",
       "      <td>39.368642</td>\n",
       "    </tr>\n",
       "    <tr>\n",
       "      <th>9</th>\n",
       "      <td>18 cm</td>\n",
       "      <td>3453</td>\n",
       "      <td>3544</td>\n",
       "      <td>3486</td>\n",
       "      <td>3406</td>\n",
       "      <td>3497</td>\n",
       "      <td>3454</td>\n",
       "      <td>3438</td>\n",
       "      <td>3399</td>\n",
       "      <td>3513</td>\n",
       "      <td>3457</td>\n",
       "      <td>3464.7</td>\n",
       "      <td>45.830727</td>\n",
       "      <td>43.478845</td>\n",
       "    </tr>\n",
       "    <tr>\n",
       "      <th>10</th>\n",
       "      <td>19 cm</td>\n",
       "      <td>3246</td>\n",
       "      <td>3416</td>\n",
       "      <td>3460</td>\n",
       "      <td>3318</td>\n",
       "      <td>3480</td>\n",
       "      <td>3262</td>\n",
       "      <td>2884</td>\n",
       "      <td>3183</td>\n",
       "      <td>3373</td>\n",
       "      <td>3450</td>\n",
       "      <td>3307.2</td>\n",
       "      <td>179.566020</td>\n",
       "      <td>170.351284</td>\n",
       "    </tr>\n",
       "    <tr>\n",
       "      <th>11</th>\n",
       "      <td>20 cm</td>\n",
       "      <td>2567</td>\n",
       "      <td>2547</td>\n",
       "      <td>2539</td>\n",
       "      <td>2647</td>\n",
       "      <td>2621</td>\n",
       "      <td>2590</td>\n",
       "      <td>2538</td>\n",
       "      <td>2671</td>\n",
       "      <td>2483</td>\n",
       "      <td>2433</td>\n",
       "      <td>2563.6</td>\n",
       "      <td>72.711301</td>\n",
       "      <td>68.979997</td>\n",
       "    </tr>\n",
       "    <tr>\n",
       "      <th>12</th>\n",
       "      <td>21 cm</td>\n",
       "      <td>2812</td>\n",
       "      <td>2854</td>\n",
       "      <td>2802</td>\n",
       "      <td>2833</td>\n",
       "      <td>2812</td>\n",
       "      <td>2751</td>\n",
       "      <td>2913</td>\n",
       "      <td>2834</td>\n",
       "      <td>2823</td>\n",
       "      <td>2794</td>\n",
       "      <td>2822.8</td>\n",
       "      <td>42.149997</td>\n",
       "      <td>39.986998</td>\n",
       "    </tr>\n",
       "    <tr>\n",
       "      <th>13</th>\n",
       "      <td>22 cm</td>\n",
       "      <td>2610</td>\n",
       "      <td>2553</td>\n",
       "      <td>2423</td>\n",
       "      <td>2452</td>\n",
       "      <td>2525</td>\n",
       "      <td>2496</td>\n",
       "      <td>2544</td>\n",
       "      <td>2542</td>\n",
       "      <td>2598</td>\n",
       "      <td>2555</td>\n",
       "      <td>2529.8</td>\n",
       "      <td>58.908215</td>\n",
       "      <td>55.885240</td>\n",
       "    </tr>\n",
       "    <tr>\n",
       "      <th>14</th>\n",
       "      <td>23 cm</td>\n",
       "      <td>3347</td>\n",
       "      <td>3432</td>\n",
       "      <td>3436</td>\n",
       "      <td>3429</td>\n",
       "      <td>3400</td>\n",
       "      <td>3474</td>\n",
       "      <td>3338</td>\n",
       "      <td>3359</td>\n",
       "      <td>3345</td>\n",
       "      <td>3518</td>\n",
       "      <td>3407.8</td>\n",
       "      <td>60.838219</td>\n",
       "      <td>57.716202</td>\n",
       "    </tr>\n",
       "    <tr>\n",
       "      <th>15</th>\n",
       "      <td>24 cm</td>\n",
       "      <td>2522</td>\n",
       "      <td>2524</td>\n",
       "      <td>2446</td>\n",
       "      <td>2365</td>\n",
       "      <td>2526</td>\n",
       "      <td>2440</td>\n",
       "      <td>2439</td>\n",
       "      <td>2474</td>\n",
       "      <td>2415</td>\n",
       "      <td>2529</td>\n",
       "      <td>2468.0</td>\n",
       "      <td>56.470248</td>\n",
       "      <td>53.572381</td>\n",
       "    </tr>\n",
       "    <tr>\n",
       "      <th>16</th>\n",
       "      <td>25 cm</td>\n",
       "      <td>2991</td>\n",
       "      <td>3146</td>\n",
       "      <td>3946</td>\n",
       "      <td>3070</td>\n",
       "      <td>3078</td>\n",
       "      <td>3071</td>\n",
       "      <td>3000</td>\n",
       "      <td>3054</td>\n",
       "      <td>3022</td>\n",
       "      <td>2945</td>\n",
       "      <td>3132.3</td>\n",
       "      <td>291.305510</td>\n",
       "      <td>276.356672</td>\n",
       "    </tr>\n",
       "    <tr>\n",
       "      <th>17</th>\n",
       "      <td>26 cm</td>\n",
       "      <td>3089</td>\n",
       "      <td>3171</td>\n",
       "      <td>3146</td>\n",
       "      <td>3164</td>\n",
       "      <td>3195</td>\n",
       "      <td>3131</td>\n",
       "      <td>3093</td>\n",
       "      <td>3132</td>\n",
       "      <td>3107</td>\n",
       "      <td>3045</td>\n",
       "      <td>3127.3</td>\n",
       "      <td>44.788515</td>\n",
       "      <td>42.490116</td>\n",
       "    </tr>\n",
       "    <tr>\n",
       "      <th>18</th>\n",
       "      <td>27 cm</td>\n",
       "      <td>2378</td>\n",
       "      <td>2410</td>\n",
       "      <td>2442</td>\n",
       "      <td>2409</td>\n",
       "      <td>2345</td>\n",
       "      <td>2513</td>\n",
       "      <td>2397</td>\n",
       "      <td>2456</td>\n",
       "      <td>2417</td>\n",
       "      <td>2358</td>\n",
       "      <td>2412.5</td>\n",
       "      <td>49.282068</td>\n",
       "      <td>46.753075</td>\n",
       "    </tr>\n",
       "    <tr>\n",
       "      <th>19</th>\n",
       "      <td>28 cm</td>\n",
       "      <td>2565</td>\n",
       "      <td>2561</td>\n",
       "      <td>2499</td>\n",
       "      <td>2610</td>\n",
       "      <td>2609</td>\n",
       "      <td>2577</td>\n",
       "      <td>2500</td>\n",
       "      <td>2541</td>\n",
       "      <td>2658</td>\n",
       "      <td>2596</td>\n",
       "      <td>2571.6</td>\n",
       "      <td>49.947083</td>\n",
       "      <td>47.383964</td>\n",
       "    </tr>\n",
       "  </tbody>\n",
       "</table>\n",
       "</div>"
      ],
      "text/plain": [
       "   Distance  Count 1  Count 2  Count 3  Count 4  Count 5  Count 6  Count 7  \\\n",
       "0      9 cm     2105     2023     2227     2052     2006     2123     2068   \n",
       "1     10 cm     3144     3076     3178     3168     3061     3183     3191   \n",
       "2     11 cm     2290     2385     2261     2248     2300     2297     2260   \n",
       "3     12 cm     3397     3481     3480     3450     3464     3433     3566   \n",
       "4     13 cm     2583     2514     2542     2556     2508     2533     2546   \n",
       "5     14 cm     3557     3480     3532     3368     3617     3549     3408   \n",
       "6     15 cm     3439     3402     3460     3443     3466     3487     3494   \n",
       "7     16 cm     3651     3551     3547     3538     3498     3623     3634   \n",
       "8     17 cm     2441     2442     2433     2467     2387     2373     2347   \n",
       "9     18 cm     3453     3544     3486     3406     3497     3454     3438   \n",
       "10    19 cm     3246     3416     3460     3318     3480     3262     2884   \n",
       "11    20 cm     2567     2547     2539     2647     2621     2590     2538   \n",
       "12    21 cm     2812     2854     2802     2833     2812     2751     2913   \n",
       "13    22 cm     2610     2553     2423     2452     2525     2496     2544   \n",
       "14    23 cm     3347     3432     3436     3429     3400     3474     3338   \n",
       "15    24 cm     2522     2524     2446     2365     2526     2440     2439   \n",
       "16    25 cm     2991     3146     3946     3070     3078     3071     3000   \n",
       "17    26 cm     3089     3171     3146     3164     3195     3131     3093   \n",
       "18    27 cm     2378     2410     2442     2409     2345     2513     2397   \n",
       "19    28 cm     2565     2561     2499     2610     2609     2577     2500   \n",
       "\n",
       "    Count 8  Count 9  Count 10    MEAN         STD         RMS  \n",
       "0      2011     1970      2029  2061.4   74.340358   70.525456  \n",
       "1      3166     3098      3080  3134.5   50.297449   47.716349  \n",
       "2      2329     2344      2286  2300.0   42.337270   40.164661  \n",
       "3      3505     3448      3451  3467.5   45.434324   43.102784  \n",
       "4      2601     2539      2595  2551.7   32.097248   30.450123  \n",
       "5      3491     3570      3419  3499.1   80.405155   76.279027  \n",
       "6      3450     3403      3504  3454.8   35.007301   33.210842  \n",
       "7      3657     3694      3611  3600.4   63.200211   59.956985  \n",
       "8      2398     2380      2351  2401.9   41.498193   39.368642  \n",
       "9      3399     3513      3457  3464.7   45.830727   43.478845  \n",
       "10     3183     3373      3450  3307.2  179.566020  170.351284  \n",
       "11     2671     2483      2433  2563.6   72.711301   68.979997  \n",
       "12     2834     2823      2794  2822.8   42.149997   39.986998  \n",
       "13     2542     2598      2555  2529.8   58.908215   55.885240  \n",
       "14     3359     3345      3518  3407.8   60.838219   57.716202  \n",
       "15     2474     2415      2529  2468.0   56.470248   53.572381  \n",
       "16     3054     3022      2945  3132.3  291.305510  276.356672  \n",
       "17     3132     3107      3045  3127.3   44.788515   42.490116  \n",
       "18     2456     2417      2358  2412.5   49.282068   46.753075  \n",
       "19     2541     2658      2596  2571.6   49.947083   47.383964  "
      ]
     },
     "execution_count": 16,
     "metadata": {},
     "output_type": "execute_result"
    }
   ],
   "source": [
    "#obtenemos promedios y desviaciones estandar\n",
    "mean = []\n",
    "mean = datospm.mean(axis=1)\n",
    "datos['MEAN'] = mean\n",
    "std = datospm.std(axis=1)\n",
    "datos['STD'] = std\n",
    "#calculando el RMS\n",
    "rms = []\n",
    "for i in range(datospm.shape[0]):\n",
    "    lis = []\n",
    "    for x in range(datospm.shape[1]):\n",
    "        conteo = \"Count \" + str(x+1)\n",
    "        lis.append((datospm[conteo][i] - datos['MEAN'][i])\n",
    "                   *(datospm[conteo][i] - datos['MEAN'][i]) / (datospm.shape[1]))\n",
    "    rms.append(sqrt(sum(lis)))\n",
    "datos['RMS'] = rms\n",
    "#creamos un csv con estos nuevos datos\n",
    "datos.to_csv('Datos_con_promedio.csv', sep=',', index=False)\n",
    "datos"
   ]
  },
  {
   "cell_type": "code",
   "execution_count": 17,
   "metadata": {},
   "outputs": [
    {
     "data": {
      "application/vnd.plotly.v1+json": {
       "config": {
        "plotlyServerURL": "https://plot.ly"
       },
       "data": [
        {
         "error_y": {
          "array": [
           22.30210752372968,
           15.08923457303252,
           12.70118104744594,
           13.630297135425916,
           9.62917441944012,
           24.12154638492317,
           10.502190247753084,
           18.960063291033602,
           12.44945781951969,
           13.74921815959002,
           53.86980601413003,
           21.81339038297348,
           12.644999011466943,
           17.672464457454705,
           18.251465694568203,
           16.941074346097416,
           87.39165291948653,
           13.436554617907076,
           14.784620387416107,
           14.984124932741317
          ]
         },
         "hovertemplate": "Distance=%{x}<br>MEAN=%{y}<extra></extra>",
         "legendgroup": "",
         "marker": {
          "color": "#636efa",
          "symbol": "circle"
         },
         "mode": "markers",
         "name": "",
         "orientation": "v",
         "showlegend": false,
         "type": "scatter",
         "x": [
          9,
          10,
          11,
          12,
          13,
          14,
          15,
          16,
          17,
          18,
          19,
          20,
          21,
          22,
          23,
          24,
          25,
          26,
          27,
          28
         ],
         "xaxis": "x",
         "y": [
          2061.4,
          3134.5,
          2300,
          3467.5,
          2551.7,
          3499.1,
          3454.8,
          3600.4,
          2401.9,
          3464.7,
          3307.2,
          2563.6,
          2822.8,
          2529.8,
          3407.8,
          2468,
          3132.3,
          3127.3,
          2412.5,
          2571.6
         ],
         "yaxis": "y"
        }
       ],
       "layout": {
        "legend": {
         "tracegroupgap": 0
        },
        "template": {
         "data": {
          "bar": [
           {
            "error_x": {
             "color": "#2a3f5f"
            },
            "error_y": {
             "color": "#2a3f5f"
            },
            "marker": {
             "line": {
              "color": "#E5ECF6",
              "width": 0.5
             },
             "pattern": {
              "fillmode": "overlay",
              "size": 10,
              "solidity": 0.2
             }
            },
            "type": "bar"
           }
          ],
          "barpolar": [
           {
            "marker": {
             "line": {
              "color": "#E5ECF6",
              "width": 0.5
             },
             "pattern": {
              "fillmode": "overlay",
              "size": 10,
              "solidity": 0.2
             }
            },
            "type": "barpolar"
           }
          ],
          "carpet": [
           {
            "aaxis": {
             "endlinecolor": "#2a3f5f",
             "gridcolor": "white",
             "linecolor": "white",
             "minorgridcolor": "white",
             "startlinecolor": "#2a3f5f"
            },
            "baxis": {
             "endlinecolor": "#2a3f5f",
             "gridcolor": "white",
             "linecolor": "white",
             "minorgridcolor": "white",
             "startlinecolor": "#2a3f5f"
            },
            "type": "carpet"
           }
          ],
          "choropleth": [
           {
            "colorbar": {
             "outlinewidth": 0,
             "ticks": ""
            },
            "type": "choropleth"
           }
          ],
          "contour": [
           {
            "colorbar": {
             "outlinewidth": 0,
             "ticks": ""
            },
            "colorscale": [
             [
              0,
              "#0d0887"
             ],
             [
              0.1111111111111111,
              "#46039f"
             ],
             [
              0.2222222222222222,
              "#7201a8"
             ],
             [
              0.3333333333333333,
              "#9c179e"
             ],
             [
              0.4444444444444444,
              "#bd3786"
             ],
             [
              0.5555555555555556,
              "#d8576b"
             ],
             [
              0.6666666666666666,
              "#ed7953"
             ],
             [
              0.7777777777777778,
              "#fb9f3a"
             ],
             [
              0.8888888888888888,
              "#fdca26"
             ],
             [
              1,
              "#f0f921"
             ]
            ],
            "type": "contour"
           }
          ],
          "contourcarpet": [
           {
            "colorbar": {
             "outlinewidth": 0,
             "ticks": ""
            },
            "type": "contourcarpet"
           }
          ],
          "heatmap": [
           {
            "colorbar": {
             "outlinewidth": 0,
             "ticks": ""
            },
            "colorscale": [
             [
              0,
              "#0d0887"
             ],
             [
              0.1111111111111111,
              "#46039f"
             ],
             [
              0.2222222222222222,
              "#7201a8"
             ],
             [
              0.3333333333333333,
              "#9c179e"
             ],
             [
              0.4444444444444444,
              "#bd3786"
             ],
             [
              0.5555555555555556,
              "#d8576b"
             ],
             [
              0.6666666666666666,
              "#ed7953"
             ],
             [
              0.7777777777777778,
              "#fb9f3a"
             ],
             [
              0.8888888888888888,
              "#fdca26"
             ],
             [
              1,
              "#f0f921"
             ]
            ],
            "type": "heatmap"
           }
          ],
          "heatmapgl": [
           {
            "colorbar": {
             "outlinewidth": 0,
             "ticks": ""
            },
            "colorscale": [
             [
              0,
              "#0d0887"
             ],
             [
              0.1111111111111111,
              "#46039f"
             ],
             [
              0.2222222222222222,
              "#7201a8"
             ],
             [
              0.3333333333333333,
              "#9c179e"
             ],
             [
              0.4444444444444444,
              "#bd3786"
             ],
             [
              0.5555555555555556,
              "#d8576b"
             ],
             [
              0.6666666666666666,
              "#ed7953"
             ],
             [
              0.7777777777777778,
              "#fb9f3a"
             ],
             [
              0.8888888888888888,
              "#fdca26"
             ],
             [
              1,
              "#f0f921"
             ]
            ],
            "type": "heatmapgl"
           }
          ],
          "histogram": [
           {
            "marker": {
             "pattern": {
              "fillmode": "overlay",
              "size": 10,
              "solidity": 0.2
             }
            },
            "type": "histogram"
           }
          ],
          "histogram2d": [
           {
            "colorbar": {
             "outlinewidth": 0,
             "ticks": ""
            },
            "colorscale": [
             [
              0,
              "#0d0887"
             ],
             [
              0.1111111111111111,
              "#46039f"
             ],
             [
              0.2222222222222222,
              "#7201a8"
             ],
             [
              0.3333333333333333,
              "#9c179e"
             ],
             [
              0.4444444444444444,
              "#bd3786"
             ],
             [
              0.5555555555555556,
              "#d8576b"
             ],
             [
              0.6666666666666666,
              "#ed7953"
             ],
             [
              0.7777777777777778,
              "#fb9f3a"
             ],
             [
              0.8888888888888888,
              "#fdca26"
             ],
             [
              1,
              "#f0f921"
             ]
            ],
            "type": "histogram2d"
           }
          ],
          "histogram2dcontour": [
           {
            "colorbar": {
             "outlinewidth": 0,
             "ticks": ""
            },
            "colorscale": [
             [
              0,
              "#0d0887"
             ],
             [
              0.1111111111111111,
              "#46039f"
             ],
             [
              0.2222222222222222,
              "#7201a8"
             ],
             [
              0.3333333333333333,
              "#9c179e"
             ],
             [
              0.4444444444444444,
              "#bd3786"
             ],
             [
              0.5555555555555556,
              "#d8576b"
             ],
             [
              0.6666666666666666,
              "#ed7953"
             ],
             [
              0.7777777777777778,
              "#fb9f3a"
             ],
             [
              0.8888888888888888,
              "#fdca26"
             ],
             [
              1,
              "#f0f921"
             ]
            ],
            "type": "histogram2dcontour"
           }
          ],
          "mesh3d": [
           {
            "colorbar": {
             "outlinewidth": 0,
             "ticks": ""
            },
            "type": "mesh3d"
           }
          ],
          "parcoords": [
           {
            "line": {
             "colorbar": {
              "outlinewidth": 0,
              "ticks": ""
             }
            },
            "type": "parcoords"
           }
          ],
          "pie": [
           {
            "automargin": true,
            "type": "pie"
           }
          ],
          "scatter": [
           {
            "fillpattern": {
             "fillmode": "overlay",
             "size": 10,
             "solidity": 0.2
            },
            "type": "scatter"
           }
          ],
          "scatter3d": [
           {
            "line": {
             "colorbar": {
              "outlinewidth": 0,
              "ticks": ""
             }
            },
            "marker": {
             "colorbar": {
              "outlinewidth": 0,
              "ticks": ""
             }
            },
            "type": "scatter3d"
           }
          ],
          "scattercarpet": [
           {
            "marker": {
             "colorbar": {
              "outlinewidth": 0,
              "ticks": ""
             }
            },
            "type": "scattercarpet"
           }
          ],
          "scattergeo": [
           {
            "marker": {
             "colorbar": {
              "outlinewidth": 0,
              "ticks": ""
             }
            },
            "type": "scattergeo"
           }
          ],
          "scattergl": [
           {
            "marker": {
             "colorbar": {
              "outlinewidth": 0,
              "ticks": ""
             }
            },
            "type": "scattergl"
           }
          ],
          "scattermapbox": [
           {
            "marker": {
             "colorbar": {
              "outlinewidth": 0,
              "ticks": ""
             }
            },
            "type": "scattermapbox"
           }
          ],
          "scatterpolar": [
           {
            "marker": {
             "colorbar": {
              "outlinewidth": 0,
              "ticks": ""
             }
            },
            "type": "scatterpolar"
           }
          ],
          "scatterpolargl": [
           {
            "marker": {
             "colorbar": {
              "outlinewidth": 0,
              "ticks": ""
             }
            },
            "type": "scatterpolargl"
           }
          ],
          "scatterternary": [
           {
            "marker": {
             "colorbar": {
              "outlinewidth": 0,
              "ticks": ""
             }
            },
            "type": "scatterternary"
           }
          ],
          "surface": [
           {
            "colorbar": {
             "outlinewidth": 0,
             "ticks": ""
            },
            "colorscale": [
             [
              0,
              "#0d0887"
             ],
             [
              0.1111111111111111,
              "#46039f"
             ],
             [
              0.2222222222222222,
              "#7201a8"
             ],
             [
              0.3333333333333333,
              "#9c179e"
             ],
             [
              0.4444444444444444,
              "#bd3786"
             ],
             [
              0.5555555555555556,
              "#d8576b"
             ],
             [
              0.6666666666666666,
              "#ed7953"
             ],
             [
              0.7777777777777778,
              "#fb9f3a"
             ],
             [
              0.8888888888888888,
              "#fdca26"
             ],
             [
              1,
              "#f0f921"
             ]
            ],
            "type": "surface"
           }
          ],
          "table": [
           {
            "cells": {
             "fill": {
              "color": "#EBF0F8"
             },
             "line": {
              "color": "white"
             }
            },
            "header": {
             "fill": {
              "color": "#C8D4E3"
             },
             "line": {
              "color": "white"
             }
            },
            "type": "table"
           }
          ]
         },
         "layout": {
          "annotationdefaults": {
           "arrowcolor": "#2a3f5f",
           "arrowhead": 0,
           "arrowwidth": 1
          },
          "autotypenumbers": "strict",
          "coloraxis": {
           "colorbar": {
            "outlinewidth": 0,
            "ticks": ""
           }
          },
          "colorscale": {
           "diverging": [
            [
             0,
             "#8e0152"
            ],
            [
             0.1,
             "#c51b7d"
            ],
            [
             0.2,
             "#de77ae"
            ],
            [
             0.3,
             "#f1b6da"
            ],
            [
             0.4,
             "#fde0ef"
            ],
            [
             0.5,
             "#f7f7f7"
            ],
            [
             0.6,
             "#e6f5d0"
            ],
            [
             0.7,
             "#b8e186"
            ],
            [
             0.8,
             "#7fbc41"
            ],
            [
             0.9,
             "#4d9221"
            ],
            [
             1,
             "#276419"
            ]
           ],
           "sequential": [
            [
             0,
             "#0d0887"
            ],
            [
             0.1111111111111111,
             "#46039f"
            ],
            [
             0.2222222222222222,
             "#7201a8"
            ],
            [
             0.3333333333333333,
             "#9c179e"
            ],
            [
             0.4444444444444444,
             "#bd3786"
            ],
            [
             0.5555555555555556,
             "#d8576b"
            ],
            [
             0.6666666666666666,
             "#ed7953"
            ],
            [
             0.7777777777777778,
             "#fb9f3a"
            ],
            [
             0.8888888888888888,
             "#fdca26"
            ],
            [
             1,
             "#f0f921"
            ]
           ],
           "sequentialminus": [
            [
             0,
             "#0d0887"
            ],
            [
             0.1111111111111111,
             "#46039f"
            ],
            [
             0.2222222222222222,
             "#7201a8"
            ],
            [
             0.3333333333333333,
             "#9c179e"
            ],
            [
             0.4444444444444444,
             "#bd3786"
            ],
            [
             0.5555555555555556,
             "#d8576b"
            ],
            [
             0.6666666666666666,
             "#ed7953"
            ],
            [
             0.7777777777777778,
             "#fb9f3a"
            ],
            [
             0.8888888888888888,
             "#fdca26"
            ],
            [
             1,
             "#f0f921"
            ]
           ]
          },
          "colorway": [
           "#636efa",
           "#EF553B",
           "#00cc96",
           "#ab63fa",
           "#FFA15A",
           "#19d3f3",
           "#FF6692",
           "#B6E880",
           "#FF97FF",
           "#FECB52"
          ],
          "font": {
           "color": "#2a3f5f"
          },
          "geo": {
           "bgcolor": "white",
           "lakecolor": "white",
           "landcolor": "#E5ECF6",
           "showlakes": true,
           "showland": true,
           "subunitcolor": "white"
          },
          "hoverlabel": {
           "align": "left"
          },
          "hovermode": "closest",
          "mapbox": {
           "style": "light"
          },
          "paper_bgcolor": "white",
          "plot_bgcolor": "#E5ECF6",
          "polar": {
           "angularaxis": {
            "gridcolor": "white",
            "linecolor": "white",
            "ticks": ""
           },
           "bgcolor": "#E5ECF6",
           "radialaxis": {
            "gridcolor": "white",
            "linecolor": "white",
            "ticks": ""
           }
          },
          "scene": {
           "xaxis": {
            "backgroundcolor": "#E5ECF6",
            "gridcolor": "white",
            "gridwidth": 2,
            "linecolor": "white",
            "showbackground": true,
            "ticks": "",
            "zerolinecolor": "white"
           },
           "yaxis": {
            "backgroundcolor": "#E5ECF6",
            "gridcolor": "white",
            "gridwidth": 2,
            "linecolor": "white",
            "showbackground": true,
            "ticks": "",
            "zerolinecolor": "white"
           },
           "zaxis": {
            "backgroundcolor": "#E5ECF6",
            "gridcolor": "white",
            "gridwidth": 2,
            "linecolor": "white",
            "showbackground": true,
            "ticks": "",
            "zerolinecolor": "white"
           }
          },
          "shapedefaults": {
           "line": {
            "color": "#2a3f5f"
           }
          },
          "ternary": {
           "aaxis": {
            "gridcolor": "white",
            "linecolor": "white",
            "ticks": ""
           },
           "baxis": {
            "gridcolor": "white",
            "linecolor": "white",
            "ticks": ""
           },
           "bgcolor": "#E5ECF6",
           "caxis": {
            "gridcolor": "white",
            "linecolor": "white",
            "ticks": ""
           }
          },
          "title": {
           "x": 0.05
          },
          "xaxis": {
           "automargin": true,
           "gridcolor": "white",
           "linecolor": "white",
           "ticks": "",
           "title": {
            "standoff": 15
           },
           "zerolinecolor": "white",
           "zerolinewidth": 2
          },
          "yaxis": {
           "automargin": true,
           "gridcolor": "white",
           "linecolor": "white",
           "ticks": "",
           "title": {
            "standoff": 15
           },
           "zerolinecolor": "white",
           "zerolinewidth": 2
          }
         }
        },
        "title": {
         "text": "Mean vs Distance"
        },
        "xaxis": {
         "anchor": "y",
         "domain": [
          0,
          1
         ],
         "title": {
          "text": "Distance"
         }
        },
        "yaxis": {
         "anchor": "x",
         "domain": [
          0,
          1
         ],
         "title": {
          "text": "MEAN"
         }
        }
       }
      }
     },
     "metadata": {},
     "output_type": "display_data"
    }
   ],
   "source": [
    "error = []\n",
    "Distance = [9,10,11,12,13,14,15,16,17,18,19,20,21,22,23,24,25,26,27,28]\n",
    "datos['Distance'] = Distance\n",
    "for i in range(datos.shape[0]):\n",
    "    error.append(datos['RMS'][i]/sqrt(10))\n",
    "\n",
    "fig = px.scatter(datos, title = \"Mean vs Distance\", x=\"Distance\", y=\"MEAN\",\n",
    "                 error_y=error)\n",
    "fig.show()"
   ]
  },
  {
   "cell_type": "code",
   "execution_count": 18,
   "metadata": {},
   "outputs": [
    {
     "ename": "TypeError",
     "evalue": "can't multiply sequence by non-int of type 'numpy.float64'",
     "output_type": "error",
     "traceback": [
      "\u001b[1;31m---------------------------------------------------------------------------\u001b[0m",
      "\u001b[1;31mTypeError\u001b[0m                                 Traceback (most recent call last)",
      "Cell \u001b[1;32mIn[18], line 15\u001b[0m\n\u001b[0;32m     12\u001b[0m b \u001b[38;5;241m=\u001b[39m p[\u001b[38;5;241m0\u001b[39m]\n\u001b[0;32m     14\u001b[0m \u001b[38;5;66;03m# Calculate the predicted y values\u001b[39;00m\n\u001b[1;32m---> 15\u001b[0m y_pred_exp \u001b[38;5;241m=\u001b[39m a \u001b[38;5;241m*\u001b[39m np\u001b[38;5;241m.\u001b[39mexp(\u001b[43mb\u001b[49m\u001b[43m \u001b[49m\u001b[38;5;241;43m*\u001b[39;49m\u001b[43m \u001b[49m\u001b[43mx\u001b[49m)\n\u001b[0;32m     17\u001b[0m \u001b[38;5;66;03m# Calculate the R-squared value for the exponential trendline\u001b[39;00m\n\u001b[0;32m     18\u001b[0m ss_tot \u001b[38;5;241m=\u001b[39m np\u001b[38;5;241m.\u001b[39msum((y \u001b[38;5;241m-\u001b[39m np\u001b[38;5;241m.\u001b[39mmean(y))\u001b[38;5;241m*\u001b[39m\u001b[38;5;241m*\u001b[39m\u001b[38;5;241m2\u001b[39m)\n",
      "\u001b[1;31mTypeError\u001b[0m: can't multiply sequence by non-int of type 'numpy.float64'"
     ]
    }
   ],
   "source": [
    "import matplotlib.pyplot as plt\n",
    "import pandas as pd \n",
    "import numpy as np\n",
    "\n",
    "# Extract the x and y values from the dataset\n",
    "x = Distance\n",
    "y = datos['MEAN']\n",
    "\n",
    "# Fit the data to an exponential curve\n",
    "p = np.polyfit(x, np.log(y), deg=1)\n",
    "a = np.exp(p[1])\n",
    "b = p[0]\n",
    "\n",
    "# Calculate the predicted y values\n",
    "y_pred_exp = a * np.exp(b * x)\n",
    "\n",
    "# Calculate the R-squared value for the exponential trendline\n",
    "ss_tot = np.sum((y - np.mean(y))**2)\n",
    "ss_res_exp = np.sum((y - y_pred_exp)**2)\n",
    "r_squared_exp = 1 - (ss_res_exp / ss_tot)\n",
    "\n",
    "# Plot the data and the trendlines\n",
    "fig, ax = plt.subplots(figsize=(8, 5))\n",
    "ax.scatter((x*3), y, color='black')\n",
    "ax.plot((x*3), y_pred_exp, color='green', label='Exponential Trendline')\n",
    "ax.text(0.01, 0.8, f'Exponential Trendline: y = {a:.2f} * exp({b:.3f}x), R-squared: {r_squared_exp:.4f}', transform=ax.transAxes)\n",
    "ax.legend()\n",
    "\n",
    "plt.show()"
   ]
  }
 ],
 "metadata": {
  "kernelspec": {
   "display_name": "Python 3",
   "language": "python",
   "name": "python3"
  },
  "language_info": {
   "codemirror_mode": {
    "name": "ipython",
    "version": 3
   },
   "file_extension": ".py",
   "mimetype": "text/x-python",
   "name": "python",
   "nbconvert_exporter": "python",
   "pygments_lexer": "ipython3",
   "version": "3.12.5"
  },
  "orig_nbformat": 4
 },
 "nbformat": 4,
 "nbformat_minor": 2
}
